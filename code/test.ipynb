{
 "cells": [
  {
   "cell_type": "code",
   "execution_count": null,
   "metadata": {},
   "outputs": [],
   "source": [
    "import numpy as np\n",
    "\n",
    "from utils.neural_network import NeuralNetwork\n",
    "from utils.training import GradientDescent, StochasticGradientDescent\n",
    "from utils.step_methods import ConstantLearningRateStep, MomentumStep, ADAgradStep, RMSpropStep, AdamStep\n",
    "from utils.cost_functions import SoftmaxCrossEntropy\n",
    "from utils.activation_functions import ReLU, Identity"
   ]
  },
  {
   "cell_type": "code",
   "execution_count": null,
   "metadata": {},
   "outputs": [
    {
     "name": "stdout",
     "output_type": "stream",
     "text": [
      "3.4200808370901092\n",
      "1.3124104405388477\n"
     ]
    }
   ],
   "source": [
    "\n",
    "\n",
    "N = 100\n",
    "network_input_size = 4\n",
    "network_output_size = 3\n",
    "\n",
    "np.random.seed(123)\n",
    "inputs = np.random.rand(N, network_input_size) # (N, n_feat)\n",
    "targets = np.zeros((N,network_output_size))\n",
    "for i in range(N): \n",
    "    idx = np.random.randint(0,network_output_size)\n",
    "    targets[i,idx] = 1\n",
    "\n",
    "layer_output_sizes = [10, 8, network_output_size]\n",
    "activation_funcs = [ReLU(), ReLU(), Identity()]\n",
    "\n",
    "net = NeuralNetwork(network_input_size,\n",
    "        layer_output_sizes,\n",
    "        activation_funcs,\n",
    "        SoftmaxCrossEntropy(),\n",
    "    )\n",
    "\n",
    "print(net.cost_batch(inputs,targets))\n",
    "\n",
    "net.train(GradientDescent(step_method=RMSpropStep(learning_rate=0.016, decay_rate=0.9),inputs = inputs, targets = targets),100)\n",
    "\n",
    "print(net.cost_batch(inputs,targets))\n"
   ]
  }
 ],
 "metadata": {
  "kernelspec": {
   "display_name": ".venv",
   "language": "python",
   "name": "python3"
  },
  "language_info": {
   "codemirror_mode": {
    "name": "ipython",
    "version": 3
   },
   "file_extension": ".py",
   "mimetype": "text/x-python",
   "name": "python",
   "nbconvert_exporter": "python",
   "pygments_lexer": "ipython3",
   "version": "3.11.4"
  }
 },
 "nbformat": 4,
 "nbformat_minor": 2
}
