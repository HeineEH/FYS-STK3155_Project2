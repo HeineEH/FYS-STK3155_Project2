{
 "cells": [
  {
   "cell_type": "markdown",
   "metadata": {},
   "source": [
    "### Exercise 2b)"
   ]
  },
  {
   "cell_type": "code",
   "execution_count": null,
   "metadata": {},
   "outputs": [],
   "source": [
    "from neural_network import NeuralNetwork\n",
    "import numpy as np\n",
    "from training import GradientDescent, StochasticGradientDescent\n",
    "from step_methods import ConstantLearningRateStep, MomentumStep, ADAgradStep, RMSpropStep, AdamStep\n",
    "from utils.cost_functions import SoftmaxCrossEntropy,MSE\n",
    "from utils.activation_functions import Sigmoid, Identity\n",
    "from sklearn.model_selection import train_test_split\n",
    "from sklearn.pipeline import make_pipeline\n",
    "from sklearn.preprocessing import StandardScaler\n",
    "from sklearn.preprocessing import PolynomialFeatures\n",
    "from sklearn.linear_model import LinearRegression"
   ]
  },
  {
   "cell_type": "code",
   "execution_count": null,
   "metadata": {},
   "outputs": [
    {
     "name": "stdout",
     "output_type": "stream",
     "text": [
      "Testing MSE for OLS:  0.00020994175283362937\n",
      "(400,)\n"
     ]
    }
   ],
   "source": [
    "def runge(x): \n",
    "    return 1/(1 + 25*x**2)\n",
    "\n",
    "n = 500\n",
    "x = np.random.uniform(-1, 1, n)\n",
    "y = runge(x) + 0.05*np.random.normal(0, 1, n)\n",
    "\n",
    "model = LinearRegression(fit_intercept=False)\n",
    "model = make_pipeline(PolynomialFeatures(degree=12, include_bias=False), StandardScaler(), model)\n",
    "\n",
    "x_train, x_test, y_train, y_test = train_test_split(x.reshape(-1,1), y.reshape(-1,1), test_size=0.2,random_state = 44) \n",
    "y_mean = y_train.mean()\n",
    "y_pred = model.fit(x_train, y_train - y_mean).predict(x_test)\n",
    "print(\"Testing MSE for OLS, with linear regression: \",np.mean((y_pred-(y_test - y_mean)))**2)\n",
    "\n",
    "scaler = StandardScaler()\n",
    "x_train = scaler.fit_transform(x_train)\n",
    "x_test = scaler.transform(x_test)\n",
    "\n",
    "network_input_size = 1\n",
    "network_output_size = 1\n",
    "\n",
    "layer_output_sizes = [50, 50, network_output_size]\n",
    "activation_funcs = [Sigmoid(), Sigmoid(), Identity()]\n",
    "\n",
    "net = NeuralNetwork(network_input_size,\n",
    "        layer_output_sizes,\n",
    "        activation_funcs,\n",
    "        MSE(),\n",
    "    )\n",
    "\n",
    "print(net.cost_batch(x_train,y_train - y_mean))\n",
    "\n",
    "net.train(GradientDescent(step_method=RMSpropStep(learning_rate=0.016, decay_rate=0.9),inputs = x_train, targets = y_train - y_mean),100)\n",
    "\n",
    "print(net.cost_batch(x_train,y_train - y_mean))\n"
   ]
  }
 ],
 "metadata": {
  "kernelspec": {
   "display_name": ".venv",
   "language": "python",
   "name": "python3"
  },
  "language_info": {
   "codemirror_mode": {
    "name": "ipython",
    "version": 3
   },
   "file_extension": ".py",
   "mimetype": "text/x-python",
   "name": "python",
   "nbconvert_exporter": "python",
   "pygments_lexer": "ipython3",
   "version": "3.11.4"
  }
 },
 "nbformat": 4,
 "nbformat_minor": 2
}
