{
 "cells": [
  {
   "cell_type": "code",
   "execution_count": 7,
   "id": "daab217f",
   "metadata": {},
   "outputs": [],
   "source": [
    "import numpy as np\n",
    "\n",
    "from utils.utils import generate_dataset, check_layer_params_equality\n",
    "from utils.neural_network import NeuralNetwork\n",
    "from utils.activation_functions import ReLU, Sigmoid, LeakyReLU, Identity\n",
    "from utils.cost_functions import MSE"
   ]
  },
  {
   "cell_type": "code",
   "execution_count": 8,
   "id": "6ed3e63d",
   "metadata": {},
   "outputs": [],
   "source": [
    "np.random.seed(123)\n",
    "model = NeuralNetwork(\n",
    "    network_input_size = 1,\n",
    "    layer_output_sizes = [3, 3, 3, 1],\n",
    "    activation_funcs = [ReLU(), Sigmoid(), LeakyReLU(), Identity()],\n",
    "    cost_fun = MSE(regularization=\"L1\", lambd=1e-2)\n",
    ")"
   ]
  },
  {
   "cell_type": "code",
   "execution_count": 9,
   "id": "48e7f3d0",
   "metadata": {},
   "outputs": [],
   "source": [
    "np.random.seed(124)\n",
    "x, y = generate_dataset()"
   ]
  },
  {
   "cell_type": "code",
   "execution_count": 10,
   "id": "dc42d513",
   "metadata": {},
   "outputs": [
    {
     "data": {
      "text/plain": [
       "np.float64(0.5145062535053697)"
      ]
     },
     "execution_count": 10,
     "metadata": {},
     "output_type": "execute_result"
    }
   ],
   "source": [
    "model.cost_batch(x, y, include_regularization=True)"
   ]
  },
  {
   "cell_type": "code",
   "execution_count": 11,
   "id": "6e6ee0d2",
   "metadata": {},
   "outputs": [
    {
     "name": "stdout",
     "output_type": "stream",
     "text": [
      "[(array([[ 0.00727908,  0.00682185, -0.08295002]]), array([-0.09891524, -0.00534811, -0.37777035])), (array([[-0.08283147,  0.0292007 ,  0.02971891],\n",
      "       [-0.12442233,  0.06697529,  0.04378267],\n",
      "       [-0.02574218,  0.03404449,  0.00682419]]), array([-0.67997678,  0.45809188,  0.34746263])), (array([[-0.49851914,  0.30923204, -0.3910993 ],\n",
      "       [-0.49626105,  0.31525913, -0.37354302],\n",
      "       [-0.50933469,  0.32346634, -0.38385498]]), array([-1.10428733,  0.70951393, -0.86890471])), (array([[-0.14909921],\n",
      "       [-1.32134431],\n",
      "       [-0.71293651]]), array([-0.73747661]))]\n",
      "[(array([[ 0.00727908,  0.00682185, -0.08295002]]), array([-0.09891524, -0.00534811, -0.37777035])), (array([[-0.08283147,  0.0292007 ,  0.02971891],\n",
      "       [-0.12442233,  0.06697529,  0.04378267],\n",
      "       [-0.02574218,  0.03404449,  0.00682419]]), array([-0.67997678,  0.45809188,  0.34746263])), (array([[-0.49851914,  0.30923204, -0.3910993 ],\n",
      "       [-0.49626105,  0.31525913, -0.37354302],\n",
      "       [-0.50933469,  0.32346634, -0.38385498]]), array([-1.10428733,  0.70951393, -0.86890471])), (array([[-0.14909921],\n",
      "       [-1.32134431],\n",
      "       [-0.71293651]]), array([-0.73747661]))]\n",
      "Network gradients are equal: True\n"
     ]
    }
   ],
   "source": [
    "own_grad = model.backpropagation_batch(x, y, model.layers)\n",
    "autograd_grad = model.autograd_gradient(x, y)\n",
    "print(own_grad)\n",
    "print(autograd_grad)\n",
    "are_equal = check_layer_params_equality(own_grad, autograd_grad)\n",
    "print(\"Network gradients are equal:\", are_equal)"
   ]
  }
 ],
 "metadata": {
  "kernelspec": {
   "display_name": ".venv",
   "language": "python",
   "name": "python3"
  },
  "language_info": {
   "codemirror_mode": {
    "name": "ipython",
    "version": 3
   },
   "file_extension": ".py",
   "mimetype": "text/x-python",
   "name": "python",
   "nbconvert_exporter": "python",
   "pygments_lexer": "ipython3",
   "version": "3.13.0"
  }
 },
 "nbformat": 4,
 "nbformat_minor": 5
}
