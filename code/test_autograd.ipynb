{
 "cells": [
  {
   "cell_type": "code",
   "execution_count": 6,
   "id": "daab217f",
   "metadata": {},
   "outputs": [],
   "source": [
    "import numpy as np\n",
    "\n",
    "from utils.utils import generate_dataset, check_layer_params_equality\n",
    "from utils.neural_network import NeuralNetwork\n",
    "from utils.activation_functions import ReLU, Sigmoid, Identity\n",
    "from utils.cost_functions import MSE"
   ]
  },
  {
   "cell_type": "code",
   "execution_count": 52,
   "id": "6ed3e63d",
   "metadata": {},
   "outputs": [],
   "source": [
    "np.random.seed(123)\n",
    "model = NeuralNetwork(\n",
    "    network_input_size = 1,\n",
    "    layer_output_sizes = [3, 3, 1],\n",
    "    activation_funcs = [Sigmoid(), Sigmoid(), Identity()],\n",
    "    cost_fun = MSE(regularization=\"L1\", lambd=1e-2)\n",
    ")"
   ]
  },
  {
   "cell_type": "code",
   "execution_count": 53,
   "id": "48e7f3d0",
   "metadata": {},
   "outputs": [],
   "source": [
    "np.random.seed(124)\n",
    "x, y = generate_dataset()"
   ]
  },
  {
   "cell_type": "code",
   "execution_count": 55,
   "id": "dc42d513",
   "metadata": {},
   "outputs": [
    {
     "data": {
      "text/plain": [
       "np.float64(0.2500057671291225)"
      ]
     },
     "execution_count": 55,
     "metadata": {},
     "output_type": "execute_result"
    }
   ],
   "source": [
    "model.cost_batch(x, y, include_regularization=True)"
   ]
  },
  {
   "cell_type": "code",
   "execution_count": 56,
   "id": "6e6ee0d2",
   "metadata": {},
   "outputs": [
    {
     "name": "stdout",
     "output_type": "stream",
     "text": [
      "[(array([[-0.00764749,  0.008758  ,  0.02939962]]), array([0.00402785, 0.00564035, 0.05492548])), (array([[ 0.0520748 , -0.02833299, -0.0275932 ],\n",
      "       [ 0.08970022, -0.05249187, -0.03709943],\n",
      "       [ 0.0983661 , -0.02515589, -0.03424402]]), array([ 0.17223511, -0.05121812, -0.03480018])), (array([[0.2406098 ],\n",
      "       [0.176073  ],\n",
      "       [0.13669824]]), array([0.48095507]))]\n",
      "[(array([[-0.00764749,  0.008758  ,  0.02939962]]), array([0.00402785, 0.00564035, 0.05492548])), (array([[ 0.0520748 , -0.02833299, -0.0275932 ],\n",
      "       [ 0.08970022, -0.05249187, -0.03709943],\n",
      "       [ 0.0983661 , -0.02515589, -0.03424402]]), array([ 0.17223511, -0.05121812, -0.03480018])), (array([[0.2406098 ],\n",
      "       [0.176073  ],\n",
      "       [0.13669824]]), array([0.48095507]))]\n",
      "Network gradients are equal: True\n"
     ]
    }
   ],
   "source": [
    "own_grad = model.backpropagation_batch(x, y, model.layers)\n",
    "autograd_grad = model.autograd_gradient(x, y)\n",
    "print(own_grad)\n",
    "print(autograd_grad)\n",
    "are_equal = check_layer_params_equality(own_grad, autograd_grad)\n",
    "print(\"Network gradients are equal:\", are_equal)"
   ]
  },
  {
   "cell_type": "code",
   "execution_count": 10,
   "id": "13f4b699",
   "metadata": {},
   "outputs": [],
   "source": [
    "# [(array([[ 0.00235251, -0.001242  ,  0.01939962]]), array([-0.00597215, -0.00435965,  0.04492548])), (array([[ 0.0620748 , -0.01833299, -0.0175932 ],\n",
    "#        [ 0.09970022, -0.04249187, -0.02709943],\n",
    "#        [ 0.0883661 , -0.03515589, -0.02424402]]), array([ 0.16223511, -0.06121812, -0.04480018])), (array([[0.2306098 ],\n",
    "#        [0.186073  ],\n",
    "#        [0.14669824]]), array([0.47095507]))]\n",
    "# [(array([[-0.09764749,  0.098758  ,  0.11939962]]), array([0.09402785, 0.09564035, 0.14492548])), (array([[-0.0379252 , -0.11833299, -0.1175932 ],\n",
    "#        [-0.00029978, -0.14249187, -0.12709943],\n",
    "#        [ 0.1883661 ,  0.06484411, -0.12424402]]), array([0.26223511, 0.03878188, 0.05519982])), (array([[0.3306098 ],\n",
    "#        [0.086073  ],\n",
    "#        [0.04669824]]), array([0.57095507]))]\n",
    "# Network gradients are equal: False"
   ]
  }
 ],
 "metadata": {
  "kernelspec": {
   "display_name": ".venv",
   "language": "python",
   "name": "python3"
  },
  "language_info": {
   "codemirror_mode": {
    "name": "ipython",
    "version": 3
   },
   "file_extension": ".py",
   "mimetype": "text/x-python",
   "name": "python",
   "nbconvert_exporter": "python",
   "pygments_lexer": "ipython3",
   "version": "3.13.0"
  }
 },
 "nbformat": 4,
 "nbformat_minor": 5
}
