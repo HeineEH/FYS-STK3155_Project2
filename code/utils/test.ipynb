{
 "cells": [
  {
   "cell_type": "code",
   "execution_count": null,
   "metadata": {},
   "outputs": [],
   "source": [
    "from neural_network import NeuralNetwork\n",
    "import numpy as np\n",
    "from training import GradientDescent, StochasticGradientDescent\n",
    "from step_methods import ConstantLearningRateStep, MomentumStep, ADAgradStep, RMSpropStep, AdamStep\n",
    "\n",
    "# Defining some activation functions\n",
    "def ReLU(z):\n",
    "    return np.where(z > 0, z, 0)\n",
    "\n",
    "# Derivative of the ReLU function\n",
    "def ReLU_der(z):\n",
    "    return np.where(z > 0, 1, 0)\n",
    "\n",
    "def sigmoid(z):\n",
    "    return 1 / (1 + np.exp(-z))\n",
    "\n",
    "def mse(predict, target):\n",
    "    return np.mean((predict - target) ** 2)\n",
    "\n",
    "def mse_der(predict, target):\n",
    "    n = target.size\n",
    "    return 2/n * (predict-target)\n",
    "\n",
    "def sigmoid_der(z):\n",
    "    sig = sigmoid(z)\n",
    "    return sig*(1-sig)\n",
    "\n",
    "def cross_entropy(predict, target):\n",
    "    return np.sum(-target * np.log(predict))\n",
    "\n",
    "def softmax(z):\n",
    "    \"\"\"Compute softmax values for each set of scores in the rows of the matrix z.\n",
    "    Used with batched input data.\"\"\"\n",
    "    e_z = np.exp(z - np.max(z, axis=1,keepdims = True))\n",
    "    return e_z / np.sum(e_z, axis=1)[:, np.newaxis]"
   ]
  },
  {
   "cell_type": "code",
   "execution_count": null,
   "metadata": {},
   "outputs": [
    {
     "ename": "ValueError",
     "evalue": "setting an array element with a sequence. The requested array has an inhomogeneous shape after 2 dimensions. The detected shape was (3, 2) + inhomogeneous part.",
     "output_type": "error",
     "traceback": [
      "\u001b[31m---------------------------------------------------------------------------\u001b[39m",
      "\u001b[31mValueError\u001b[39m                                Traceback (most recent call last)",
      "\u001b[36mCell\u001b[39m\u001b[36m \u001b[39m\u001b[32mIn[2]\u001b[39m\u001b[32m, line 21\u001b[39m\n\u001b[32m     18\u001b[39m activation_ders = [ReLU_der, ReLU_der, \u001b[38;5;28;01mlambda\u001b[39;00m z: \u001b[32m1\u001b[39m]\n\u001b[32m     19\u001b[39m softmax_crossentropy_der = \u001b[38;5;28;01mlambda\u001b[39;00m predict, target: (predict - target)\n\u001b[32m---> \u001b[39m\u001b[32m21\u001b[39m net = \u001b[43mNeuralNetwork\u001b[49m\u001b[43m(\u001b[49m\u001b[43mnetwork_input_size\u001b[49m\u001b[43m,\u001b[49m\n\u001b[32m     22\u001b[39m \u001b[43m        \u001b[49m\u001b[43mlayer_output_sizes\u001b[49m\u001b[43m,\u001b[49m\n\u001b[32m     23\u001b[39m \u001b[43m        \u001b[49m\u001b[43mactivation_funcs\u001b[49m\u001b[43m,\u001b[49m\n\u001b[32m     24\u001b[39m \u001b[43m        \u001b[49m\u001b[43mactivation_ders\u001b[49m\u001b[43m,\u001b[49m\n\u001b[32m     25\u001b[39m \u001b[43m        \u001b[49m\u001b[43mcross_entropy\u001b[49m\u001b[43m,\u001b[49m\n\u001b[32m     26\u001b[39m \u001b[43m        \u001b[49m\u001b[43msoftmax_crossentropy_der\u001b[49m\u001b[43m)\u001b[49m\n\u001b[32m     28\u001b[39m \u001b[38;5;28mprint\u001b[39m(net.cost_batch(inputs,targets))\n\u001b[32m     30\u001b[39m net.train(GradientDescent(step_method=RMSpropStep(learning_rate=\u001b[32m0.016\u001b[39m, decay_rate=\u001b[32m0.9\u001b[39m),inputs = inputs, targets = targets),\u001b[32m500\u001b[39m)\n",
      "\u001b[36mFile \u001b[39m\u001b[32mc:\\GitHub\\FYS-STK3155_Project2\\code\\utils\\neural_network.py:38\u001b[39m, in \u001b[36mNeuralNetwork.__init__\u001b[39m\u001b[34m(self, network_input_size, layer_output_sizes, activation_funcs, activation_ders, cost_fun, cost_der)\u001b[39m\n\u001b[32m     36\u001b[39m \u001b[38;5;28mself\u001b[39m.cost_fun = cost_fun\n\u001b[32m     37\u001b[39m \u001b[38;5;28mself\u001b[39m.cost_der = cost_der\n\u001b[32m---> \u001b[39m\u001b[32m38\u001b[39m \u001b[38;5;28mself\u001b[39m.layers = \u001b[38;5;28;43mself\u001b[39;49m\u001b[43m.\u001b[49m\u001b[43mcreate_layers_batch\u001b[49m\u001b[43m(\u001b[49m\u001b[43m)\u001b[49m\n",
      "\u001b[36mFile \u001b[39m\u001b[32mc:\\GitHub\\FYS-STK3155_Project2\\code\\utils\\neural_network.py:48\u001b[39m, in \u001b[36mNeuralNetwork.create_layers_batch\u001b[39m\u001b[34m(self)\u001b[39m\n\u001b[32m     46\u001b[39m     layers.append((W, b))\n\u001b[32m     47\u001b[39m     i_size = layer_output_size\n\u001b[32m---> \u001b[39m\u001b[32m48\u001b[39m \u001b[38;5;28;01mreturn\u001b[39;00m \u001b[43mnup\u001b[49m\u001b[43m.\u001b[49m\u001b[43marray\u001b[49m\u001b[43m(\u001b[49m\u001b[43mlayers\u001b[49m\u001b[43m)\u001b[49m\n",
      "\u001b[31mValueError\u001b[39m: setting an array element with a sequence. The requested array has an inhomogeneous shape after 2 dimensions. The detected shape was (3, 2) + inhomogeneous part."
     ]
    }
   ],
   "source": [
    "from neural_network import NeuralNetwork\n",
    "import numpy as np\n",
    "import random\n",
    "\n",
    "N = 100\n",
    "network_input_size = 4\n",
    "network_output_size = 3\n",
    "\n",
    "np.random.seed(123)\n",
    "inputs = np.random.rand(N, network_input_size) # (N, n_feat)\n",
    "targets = np.zeros((N,network_output_size))\n",
    "for i in range(N): \n",
    "    idx = random.randint(0,network_output_size-1)\n",
    "    targets[i,idx] = 1\n",
    "\n",
    "layer_output_sizes = [10, 8, network_output_size]\n",
    "activation_funcs = [ReLU, ReLU, softmax]\n",
    "activation_ders = [ReLU_der, ReLU_der, lambda z: 1]\n",
    "softmax_crossentropy_der = lambda predict, target: (predict - target)\n",
    "\n",
    "net = NeuralNetwork(network_input_size,\n",
    "        layer_output_sizes,\n",
    "        activation_funcs,\n",
    "        activation_ders,\n",
    "        cross_entropy,\n",
    "        softmax_crossentropy_der)\n",
    "\n",
    "print(net.cost_batch(inputs,targets))\n",
    "\n",
    "net.train(GradientDescent(step_method=RMSpropStep(learning_rate=0.016, decay_rate=0.9),inputs = inputs, targets = targets),500)\n",
    "\n",
    "print(net.cost_batch(inputs,targets))\n"
   ]
  }
 ],
 "metadata": {
  "kernelspec": {
   "display_name": ".venv",
   "language": "python",
   "name": "python3"
  },
  "language_info": {
   "codemirror_mode": {
    "name": "ipython",
    "version": 3
   },
   "file_extension": ".py",
   "mimetype": "text/x-python",
   "name": "python",
   "nbconvert_exporter": "python",
   "pygments_lexer": "ipython3",
   "version": "3.11.4"
  }
 },
 "nbformat": 4,
 "nbformat_minor": 2
}
